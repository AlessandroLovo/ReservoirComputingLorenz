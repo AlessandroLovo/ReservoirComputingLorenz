{
 "cells": [
  {
   "cell_type": "code",
   "execution_count": 1,
   "id": "7c96bb87",
   "metadata": {
    "ExecuteTime": {
     "end_time": "2022-04-26T13:33:12.049167Z",
     "start_time": "2022-04-26T13:33:10.536608Z"
    }
   },
   "outputs": [],
   "source": [
    "import numpy as np\n",
    "import matplotlib.pyplot as plt\n",
    "\n",
    "from resnet import ResNet\n",
    "from get_te import get_te"
   ]
  },
  {
   "cell_type": "markdown",
   "id": "6391b22a",
   "metadata": {},
   "source": [
    "## Generate Lorenz '63 trajectory"
   ]
  },
  {
   "cell_type": "code",
   "execution_count": 14,
   "id": "b8dd73aa",
   "metadata": {
    "ExecuteTime": {
     "end_time": "2022-04-26T13:45:38.857160Z",
     "start_time": "2022-04-26T13:45:38.766114Z"
    }
   },
   "outputs": [],
   "source": [
    "def lorenz(x, y, z, s=10, r=28, b=2.667):\n",
    "    '''\n",
    "    Given:\n",
    "       x, y, z: a point of interest in three dimensional space\n",
    "       s, r, b: parameters defining the lorenz attractor\n",
    "    Returns:\n",
    "       x_dot, y_dot, z_dot: values of the lorenz attractor's partial\n",
    "           derivatives at the point x, y, z\n",
    "    '''\n",
    "    x_dot = s*(y - x)\n",
    "    y_dot = r*x - y - x*z\n",
    "    z_dot = x*y - b*z\n",
    "    return x_dot, y_dot, z_dot\n",
    "\n",
    "dt = 0.02\n",
    "num_steps = 6250\n",
    "\n",
    "# Need one more for the initial values\n",
    "xs = np.empty(num_steps + 1)\n",
    "ys = np.empty(num_steps + 1)\n",
    "zs = np.empty(num_steps + 1)\n",
    "\n",
    "# Set initial values\n",
    "xs[0], ys[0], zs[0] = (0., 1., 1.05)\n",
    "\n",
    "# Step through \"time\", calculating the partial derivatives at the current point\n",
    "# and using them to estimate the next point\n",
    "for i in range(num_steps):\n",
    "    x_dot, y_dot, z_dot = lorenz(xs[i], ys[i], zs[i])\n",
    "    xs[i + 1] = xs[i] + (x_dot * dt)\n",
    "    ys[i + 1] = ys[i] + (y_dot * dt)\n",
    "    zs[i + 1] = zs[i] + (z_dot * dt)\n",
    "    \n",
    "traj = np.vstack((xs[1:],ys[1:],zs[1:]))\n",
    "time = np.linspace(-100,25,num_steps)"
   ]
  },
  {
   "cell_type": "markdown",
   "id": "129451f0",
   "metadata": {},
   "source": [
    "## Sensitivity of $t_e$ to hyperparameters"
   ]
  },
  {
   "cell_type": "code",
   "execution_count": 40,
   "id": "1bc91287",
   "metadata": {
    "ExecuteTime": {
     "end_time": "2022-04-26T14:00:37.637977Z",
     "start_time": "2022-04-26T14:00:37.627893Z"
    }
   },
   "outputs": [],
   "source": [
    "# Hyperparameter values\n",
    "rho_vals = np.linspace(0.5,2.5,21)"
   ]
  },
  {
   "cell_type": "code",
   "execution_count": 41,
   "id": "56244bb2",
   "metadata": {
    "ExecuteTime": {
     "end_time": "2022-04-26T14:01:36.980814Z",
     "start_time": "2022-04-26T14:00:38.291055Z"
    }
   },
   "outputs": [
    {
     "name": "stdout",
     "output_type": "stream",
     "text": [
      "rho = 0.5 done.\n",
      "rho = 0.6 done.\n",
      "rho = 0.7 done.\n",
      "rho = 0.8 done.\n",
      "rho = 0.9 done.\n",
      "rho = 1.0 done.\n",
      "rho = 1.1 done.\n",
      "rho = 1.2000000000000002 done.\n",
      "rho = 1.3 done.\n",
      "rho = 1.4 done.\n",
      "rho = 1.5 done.\n",
      "rho = 1.6 done.\n",
      "rho = 1.7000000000000002 done.\n",
      "rho = 1.8 done.\n",
      "rho = 1.9000000000000001 done.\n",
      "rho = 2.0 done.\n",
      "rho = 2.1 done.\n",
      "rho = 2.2 done.\n",
      "rho = 2.3 done.\n",
      "rho = 2.4000000000000004 done.\n",
      "rho = 2.5 done.\n"
     ]
    }
   ],
   "source": [
    "# warmup\n",
    "w = 50\n",
    "trajtest = traj[:,5000+w-1:]\n",
    "\n",
    "# Train RC for the different hyperparameter values\n",
    "resnets = []\n",
    "preds = []\n",
    "for i in range(len(rho_vals)):\n",
    "    resnets.append(ResNet(N=300, degree=6, spr=rho_vals[i]))\n",
    "    resnets[i].train(traj[:,:5000])\n",
    "    resnets[i].compute_Wout(traj[:,:5000])\n",
    "    preds.append(resnets[i].test(traj[:,5000:], warmup=50))\n",
    "    print('rho = {} done.'.format(rho_vals[i]))"
   ]
  },
  {
   "cell_type": "code",
   "execution_count": 42,
   "id": "11645f77",
   "metadata": {
    "ExecuteTime": {
     "end_time": "2022-04-26T14:01:37.028113Z",
     "start_time": "2022-04-26T14:01:36.986439Z"
    }
   },
   "outputs": [
    {
     "name": "stdout",
     "output_type": "stream",
     "text": [
      "Error exceeds threshold value 0.4 after 3 time steps --> t_e = 0.060.\n",
      "Error exceeds threshold value 0.4 after 29 time steps --> t_e = 0.580.\n",
      "Error exceeds threshold value 0.4 after 182 time steps --> t_e = 3.640.\n",
      "Error exceeds threshold value 0.4 after 165 time steps --> t_e = 3.300.\n",
      "Error exceeds threshold value 0.4 after 301 time steps --> t_e = 6.020.\n",
      "Error exceeds threshold value 0.4 after 264 time steps --> t_e = 5.280.\n",
      "Error exceeds threshold value 0.4 after 263 time steps --> t_e = 5.260.\n",
      "Error exceeds threshold value 0.4 after 176 time steps --> t_e = 3.520.\n",
      "Error exceeds threshold value 0.4 after 177 time steps --> t_e = 3.540.\n",
      "Error exceeds threshold value 0.4 after 169 time steps --> t_e = 3.380.\n",
      "Error exceeds threshold value 0.4 after 178 time steps --> t_e = 3.560.\n",
      "Error exceeds threshold value 0.4 after 101 time steps --> t_e = 2.020.\n",
      "Error exceeds threshold value 0.4 after 178 time steps --> t_e = 3.560.\n",
      "Error exceeds threshold value 0.4 after 77 time steps --> t_e = 1.540.\n",
      "Error exceeds threshold value 0.4 after 59 time steps --> t_e = 1.180.\n",
      "Error exceeds threshold value 0.4 after 73 time steps --> t_e = 1.460.\n",
      "Error exceeds threshold value 0.4 after 82 time steps --> t_e = 1.640.\n",
      "Error exceeds threshold value 0.4 after 65 time steps --> t_e = 1.300.\n",
      "Error exceeds threshold value 0.4 after 77 time steps --> t_e = 1.540.\n",
      "Error exceeds threshold value 0.4 after 72 time steps --> t_e = 1.440.\n",
      "Error exceeds threshold value 0.4 after 33 time steps --> t_e = 0.660.\n"
     ]
    }
   ],
   "source": [
    "# Calculate t_e for different hyperparameter values\n",
    "tes = []\n",
    "for i in range(len(rho_vals)):\n",
    "    tes.append(get_te(preds[i],trajtest,eps=0.4,error_version='normnorm'))"
   ]
  },
  {
   "cell_type": "code",
   "execution_count": 44,
   "id": "cae4234a",
   "metadata": {
    "ExecuteTime": {
     "end_time": "2022-04-26T14:01:37.887177Z",
     "start_time": "2022-04-26T14:01:37.531738Z"
    }
   },
   "outputs": [
    {
     "data": {
      "text/plain": [
       "[Text(0.5, 0, 'rho'), Text(0, 0.5, 't_e')]"
      ]
     },
     "execution_count": 44,
     "metadata": {},
     "output_type": "execute_result"
    },
    {
     "data": {
      "image/png": "[encoded data removed]",
      "text/plain": [
       "<Figure size 432x288 with 1 Axes>"
      ]
     },
     "metadata": {
      "needs_background": "light"
     },
     "output_type": "display_data"
    }
   ],
   "source": [
    "# plot results\n",
    "fig, ax = plt.subplots()\n",
    "ax.scatter(rho_vals, tes)\n",
    "ax.set(xlabel='rho', ylabel='t_e')"
   ]
  },
  {
   "cell_type": "code",
   "execution_count": null,
   "id": "33445e21",
   "metadata": {},
   "outputs": [],
   "source": []
  },
  {
   "cell_type": "code",
   "execution_count": null,
   "id": "336f2c2b",
   "metadata": {},
   "outputs": [],
   "source": []
  },
  {
   "cell_type": "code",
   "execution_count": null,
   "id": "966a661f",
   "metadata": {},
   "outputs": [],
   "source": []
  }
 ],
 "metadata": {
  "kernelspec": {
   "display_name": "Python 3 (ipykernel)",
   "language": "python",
   "name": "python3"
  },
  "language_info": {
   "codemirror_mode": {
    "name": "ipython",
    "version": 3
   },
   "file_extension": ".py",
   "mimetype": "text/x-python",
   "name": "python",
   "nbconvert_exporter": "python",
   "pygments_lexer": "ipython3",
   "version": "3.10.2"
  }
 },
 "nbformat": 4,
 "nbformat_minor": 5
}
